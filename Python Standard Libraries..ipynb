{
 "cells": [
  {
   "cell_type": "markdown",
   "id": "29b702c9",
   "metadata": {},
   "source": [
    "### `Standard Libraries`\n",
    "---"
   ]
  },
  {
   "cell_type": "code",
   "execution_count": null,
   "id": "2a75f2f5",
   "metadata": {},
   "outputs": [],
   "source": [
    "#Functions"
   ]
  },
  {
   "cell_type": "code",
   "execution_count": 8,
   "id": "161d8123",
   "metadata": {},
   "outputs": [],
   "source": [
    "def area_circle(r):\n",
    "    area = 3.14*r*r\n",
    "    return area"
   ]
  },
  {
   "cell_type": "code",
   "execution_count": 9,
   "id": "cd43e2fa",
   "metadata": {},
   "outputs": [
    {
     "data": {
      "text/plain": [
       "3.14"
      ]
     },
     "execution_count": 9,
     "metadata": {},
     "output_type": "execute_result"
    }
   ],
   "source": [
    "#r =1\n",
    "area_circle(1)"
   ]
  },
  {
   "cell_type": "code",
   "execution_count": 10,
   "id": "3452e5a1",
   "metadata": {},
   "outputs": [
    {
     "data": {
      "text/plain": [
       "50.24"
      ]
     },
     "execution_count": 10,
     "metadata": {},
     "output_type": "execute_result"
    }
   ],
   "source": [
    "#r=4\n",
    "area_circle(4)"
   ]
  },
  {
   "cell_type": "code",
   "execution_count": 11,
   "id": "891edbce",
   "metadata": {},
   "outputs": [
    {
     "data": {
      "text/plain": [
       "78.5"
      ]
     },
     "execution_count": 11,
     "metadata": {},
     "output_type": "execute_result"
    }
   ],
   "source": [
    "#r=5\n",
    "area_circle(5)"
   ]
  },
  {
   "cell_type": "markdown",
   "id": "9830798d",
   "metadata": {},
   "source": [
    "### `Math library`\n",
    "---"
   ]
  },
  {
   "cell_type": "code",
   "execution_count": 1,
   "id": "a64f28a6",
   "metadata": {},
   "outputs": [],
   "source": [
    "import math"
   ]
  },
  {
   "cell_type": "code",
   "execution_count": 2,
   "id": "ab3054ab",
   "metadata": {},
   "outputs": [
    {
     "data": {
      "text/plain": [
       "21"
      ]
     },
     "execution_count": 2,
     "metadata": {},
     "output_type": "execute_result"
    }
   ],
   "source": [
    "#the smallest integer greater than or equal to x.\n",
    "math.ceil(20.22)"
   ]
  },
  {
   "cell_type": "code",
   "execution_count": 3,
   "id": "a2536626",
   "metadata": {},
   "outputs": [
    {
     "data": {
      "text/plain": [
       "20"
      ]
     },
     "execution_count": 3,
     "metadata": {},
     "output_type": "execute_result"
    }
   ],
   "source": [
    "#the largest integer smaller than or equal to x.\n",
    "math.floor(20.22)"
   ]
  },
  {
   "cell_type": "code",
   "execution_count": 4,
   "id": "5d5e0e90",
   "metadata": {},
   "outputs": [
    {
     "data": {
      "text/plain": [
       "3628800"
      ]
     },
     "execution_count": 4,
     "metadata": {},
     "output_type": "execute_result"
    }
   ],
   "source": [
    "#factorial of number\n",
    "math.factorial(10)"
   ]
  },
  {
   "cell_type": "code",
   "execution_count": 7,
   "id": "3fb63cc3",
   "metadata": {},
   "outputs": [
    {
     "data": {
      "text/plain": [
       "4"
      ]
     },
     "execution_count": 7,
     "metadata": {},
     "output_type": "execute_result"
    }
   ],
   "source": [
    "#greatest common divisor of integer a and b.\n",
    "math.gcd(16,36)"
   ]
  },
  {
   "cell_type": "code",
   "execution_count": 8,
   "id": "5d4503c8",
   "metadata": {},
   "outputs": [
    {
     "data": {
      "text/plain": [
       "20"
      ]
     },
     "execution_count": 8,
     "metadata": {},
     "output_type": "execute_result"
    }
   ],
   "source": [
    "math.ceil(20)"
   ]
  },
  {
   "cell_type": "code",
   "execution_count": 9,
   "id": "7649d99b",
   "metadata": {},
   "outputs": [
    {
     "data": {
      "text/plain": [
       "252"
      ]
     },
     "execution_count": 9,
     "metadata": {},
     "output_type": "execute_result"
    }
   ],
   "source": [
    "math.comb(10, 5)"
   ]
  },
  {
   "cell_type": "code",
   "execution_count": 13,
   "id": "a61e30fa",
   "metadata": {},
   "outputs": [],
   "source": [
    "a=math.factorial(10)\n",
    "b=math.factorial(5)"
   ]
  },
  {
   "cell_type": "code",
   "execution_count": 14,
   "id": "79b8c877",
   "metadata": {},
   "outputs": [
    {
     "data": {
      "text/plain": [
       "(3628800, 120)"
      ]
     },
     "execution_count": 14,
     "metadata": {},
     "output_type": "execute_result"
    }
   ],
   "source": [
    "a, b"
   ]
  },
  {
   "cell_type": "code",
   "execution_count": 15,
   "id": "d3d54213",
   "metadata": {},
   "outputs": [],
   "source": [
    "c = a/(b*b)"
   ]
  },
  {
   "cell_type": "code",
   "execution_count": 16,
   "id": "a9df7d68",
   "metadata": {},
   "outputs": [
    {
     "data": {
      "text/plain": [
       "252.0"
      ]
     },
     "execution_count": 16,
     "metadata": {},
     "output_type": "execute_result"
    }
   ],
   "source": [
    "c"
   ]
  },
  {
   "cell_type": "code",
   "execution_count": 17,
   "id": "e237c96b",
   "metadata": {},
   "outputs": [
    {
     "data": {
      "text/plain": [
       "0"
      ]
     },
     "execution_count": 17,
     "metadata": {},
     "output_type": "execute_result"
    }
   ],
   "source": [
    "math.comb(5, 10)"
   ]
  },
  {
   "cell_type": "code",
   "execution_count": 18,
   "id": "1fca94d6",
   "metadata": {},
   "outputs": [
    {
     "ename": "ValueError",
     "evalue": "k must be a non-negative integer",
     "output_type": "error",
     "traceback": [
      "\u001b[1;31m---------------------------------------------------------------------------\u001b[0m",
      "\u001b[1;31mValueError\u001b[0m                                Traceback (most recent call last)",
      "\u001b[1;32m<ipython-input-18-3f0fc65d69ef>\u001b[0m in \u001b[0;36m<module>\u001b[1;34m\u001b[0m\n\u001b[1;32m----> 1\u001b[1;33m \u001b[0mmath\u001b[0m\u001b[1;33m.\u001b[0m\u001b[0mcomb\u001b[0m\u001b[1;33m(\u001b[0m\u001b[1;36m10\u001b[0m\u001b[1;33m,\u001b[0m \u001b[1;33m-\u001b[0m\u001b[1;36m5\u001b[0m\u001b[1;33m)\u001b[0m\u001b[1;33m\u001b[0m\u001b[1;33m\u001b[0m\u001b[0m\n\u001b[0m",
      "\u001b[1;31mValueError\u001b[0m: k must be a non-negative integer"
     ]
    }
   ],
   "source": [
    "math.comb(10, -5)"
   ]
  },
  {
   "cell_type": "code",
   "execution_count": 20,
   "id": "3d4a789c",
   "metadata": {},
   "outputs": [
    {
     "ename": "TypeError",
     "evalue": "'float' object cannot be interpreted as an integer",
     "output_type": "error",
     "traceback": [
      "\u001b[1;31m---------------------------------------------------------------------------\u001b[0m",
      "\u001b[1;31mTypeError\u001b[0m                                 Traceback (most recent call last)",
      "\u001b[1;32m<ipython-input-20-54aef3bd8032>\u001b[0m in \u001b[0;36m<module>\u001b[1;34m\u001b[0m\n\u001b[1;32m----> 1\u001b[1;33m \u001b[0mmath\u001b[0m\u001b[1;33m.\u001b[0m\u001b[0mcomb\u001b[0m\u001b[1;33m(\u001b[0m\u001b[1;36m10\u001b[0m\u001b[1;33m,\u001b[0m \u001b[1;36m5.2\u001b[0m\u001b[1;33m)\u001b[0m\u001b[1;33m\u001b[0m\u001b[1;33m\u001b[0m\u001b[0m\n\u001b[0m",
      "\u001b[1;31mTypeError\u001b[0m: 'float' object cannot be interpreted as an integer"
     ]
    }
   ],
   "source": [
    "math.comb(10, 5.2)"
   ]
  },
  {
   "cell_type": "code",
   "execution_count": 21,
   "id": "67a61f42",
   "metadata": {},
   "outputs": [
    {
     "data": {
      "text/plain": [
       "-3.0"
      ]
     },
     "execution_count": 21,
     "metadata": {},
     "output_type": "execute_result"
    }
   ],
   "source": [
    "math.copysign(3, -5)"
   ]
  },
  {
   "cell_type": "code",
   "execution_count": 22,
   "id": "d3762614",
   "metadata": {},
   "outputs": [
    {
     "data": {
      "text/plain": [
       "3.0"
      ]
     },
     "execution_count": 22,
     "metadata": {},
     "output_type": "execute_result"
    }
   ],
   "source": [
    "math.copysign(-3, 5)"
   ]
  },
  {
   "cell_type": "code",
   "execution_count": 23,
   "id": "26fb5024",
   "metadata": {},
   "outputs": [
    {
     "data": {
      "text/plain": [
       "6.0"
      ]
     },
     "execution_count": 23,
     "metadata": {},
     "output_type": "execute_result"
    }
   ],
   "source": [
    "math.fabs(6)"
   ]
  },
  {
   "cell_type": "code",
   "execution_count": 35,
   "id": "c2310c75",
   "metadata": {},
   "outputs": [
    {
     "data": {
      "text/plain": [
       "0.20000000000000018"
      ]
     },
     "execution_count": 35,
     "metadata": {},
     "output_type": "execute_result"
    }
   ],
   "source": [
    "math.fmod(6.2, 3)"
   ]
  },
  {
   "cell_type": "code",
   "execution_count": 44,
   "id": "6d6ea18f",
   "metadata": {},
   "outputs": [
    {
     "data": {
      "text/plain": [
       "(0.875, 3)"
      ]
     },
     "execution_count": 44,
     "metadata": {},
     "output_type": "execute_result"
    }
   ],
   "source": [
    "math.frexp(7)"
   ]
  },
  {
   "cell_type": "code",
   "execution_count": 58,
   "id": "fb801d5f",
   "metadata": {},
   "outputs": [
    {
     "data": {
      "text/plain": [
       "7.0"
      ]
     },
     "execution_count": 58,
     "metadata": {},
     "output_type": "execute_result"
    }
   ],
   "source": [
    "0.875*2**3"
   ]
  },
  {
   "cell_type": "code",
   "execution_count": 82,
   "id": "3890b99f",
   "metadata": {},
   "outputs": [
    {
     "data": {
      "text/plain": [
       "True"
      ]
     },
     "execution_count": 82,
     "metadata": {},
     "output_type": "execute_result"
    }
   ],
   "source": [
    "math.isclose(4,6, rel_tol=2, abs_tol=0)"
   ]
  },
  {
   "cell_type": "code",
   "execution_count": 83,
   "id": "2fd64299",
   "metadata": {},
   "outputs": [
    {
     "data": {
      "text/plain": [
       "False"
      ]
     },
     "execution_count": 83,
     "metadata": {},
     "output_type": "execute_result"
    }
   ],
   "source": [
    "math.isclose(4,6, rel_tol=0.2, abs_tol=0.5)"
   ]
  },
  {
   "cell_type": "code",
   "execution_count": 89,
   "id": "042dc2b0",
   "metadata": {},
   "outputs": [
    {
     "data": {
      "text/plain": [
       "True"
      ]
     },
     "execution_count": 89,
     "metadata": {},
     "output_type": "execute_result"
    }
   ],
   "source": [
    "math.isfinite(68788978278772)"
   ]
  },
  {
   "cell_type": "code",
   "execution_count": 90,
   "id": "d6bf9046",
   "metadata": {},
   "outputs": [
    {
     "data": {
      "text/plain": [
       "False"
      ]
     },
     "execution_count": 90,
     "metadata": {},
     "output_type": "execute_result"
    }
   ],
   "source": [
    "math.isinf(8)"
   ]
  },
  {
   "cell_type": "code",
   "execution_count": 91,
   "id": "bfa26c15",
   "metadata": {},
   "outputs": [
    {
     "data": {
      "text/plain": [
       "False"
      ]
     },
     "execution_count": 91,
     "metadata": {},
     "output_type": "execute_result"
    }
   ],
   "source": [
    "math.isnan(6)"
   ]
  },
  {
   "cell_type": "code",
   "execution_count": 96,
   "id": "0694801d",
   "metadata": {},
   "outputs": [
    {
     "data": {
      "text/plain": [
       "False"
      ]
     },
     "execution_count": 96,
     "metadata": {},
     "output_type": "execute_result"
    }
   ],
   "source": [
    "math.isnan(878989787)"
   ]
  },
  {
   "cell_type": "code",
   "execution_count": 98,
   "id": "e6095ea4",
   "metadata": {},
   "outputs": [
    {
     "data": {
      "text/plain": [
       "25.0"
      ]
     },
     "execution_count": 98,
     "metadata": {},
     "output_type": "execute_result"
    }
   ],
   "source": [
    "math.sqrt(625)"
   ]
  },
  {
   "cell_type": "code",
   "execution_count": 101,
   "id": "1b0cc554",
   "metadata": {},
   "outputs": [
    {
     "data": {
      "text/plain": [
       "7.38905609893065"
      ]
     },
     "execution_count": 101,
     "metadata": {},
     "output_type": "execute_result"
    }
   ],
   "source": [
    "math.exp(2)"
   ]
  },
  {
   "cell_type": "code",
   "execution_count": 104,
   "id": "1f513ef7",
   "metadata": {},
   "outputs": [
    {
     "data": {
      "text/plain": [
       "7.3890560989306495"
      ]
     },
     "execution_count": 104,
     "metadata": {},
     "output_type": "execute_result"
    }
   ],
   "source": [
    "pow(math.e,2)"
   ]
  },
  {
   "cell_type": "code",
   "execution_count": 105,
   "id": "617d95c6",
   "metadata": {},
   "outputs": [
    {
     "data": {
      "text/plain": [
       "7.3890560989306495"
      ]
     },
     "execution_count": 105,
     "metadata": {},
     "output_type": "execute_result"
    }
   ],
   "source": [
    "math.e**2"
   ]
  },
  {
   "cell_type": "code",
   "execution_count": 106,
   "id": "c0de2b6c",
   "metadata": {},
   "outputs": [],
   "source": [
    "from math import exp, expm1"
   ]
  },
  {
   "cell_type": "code",
   "execution_count": 108,
   "id": "6c9de161",
   "metadata": {},
   "outputs": [
    {
     "data": {
      "text/plain": [
       "1.0000050000069649e-05"
      ]
     },
     "execution_count": 108,
     "metadata": {},
     "output_type": "execute_result"
    }
   ],
   "source": [
    "exp(1e-5)-1"
   ]
  },
  {
   "cell_type": "code",
   "execution_count": 109,
   "id": "1a6a16f1",
   "metadata": {},
   "outputs": [
    {
     "data": {
      "text/plain": [
       "1.0000050000166667e-05"
      ]
     },
     "execution_count": 109,
     "metadata": {},
     "output_type": "execute_result"
    }
   ],
   "source": [
    "expm1(1e-5)"
   ]
  },
  {
   "cell_type": "code",
   "execution_count": 110,
   "id": "15710e67",
   "metadata": {},
   "outputs": [
    {
     "data": {
      "text/plain": [
       "0.6931471805599453"
      ]
     },
     "execution_count": 110,
     "metadata": {},
     "output_type": "execute_result"
    }
   ],
   "source": [
    "math.log(2)"
   ]
  },
  {
   "cell_type": "code",
   "execution_count": 111,
   "id": "79443f65",
   "metadata": {},
   "outputs": [
    {
     "data": {
      "text/plain": [
       "0.30102999566398114"
      ]
     },
     "execution_count": 111,
     "metadata": {},
     "output_type": "execute_result"
    }
   ],
   "source": [
    "math.log(2,10)"
   ]
  },
  {
   "cell_type": "code",
   "execution_count": 113,
   "id": "3cc14fd9",
   "metadata": {},
   "outputs": [],
   "source": [
    "from math import log1p, log2"
   ]
  },
  {
   "cell_type": "code",
   "execution_count": 114,
   "id": "709c662e",
   "metadata": {},
   "outputs": [
    {
     "data": {
      "text/plain": [
       "1.0986122886681098"
      ]
     },
     "execution_count": 114,
     "metadata": {},
     "output_type": "execute_result"
    }
   ],
   "source": [
    "log1p(2)"
   ]
  },
  {
   "cell_type": "code",
   "execution_count": 116,
   "id": "1a27023b",
   "metadata": {},
   "outputs": [
    {
     "data": {
      "text/plain": [
       "3.321928094887362"
      ]
     },
     "execution_count": 116,
     "metadata": {},
     "output_type": "execute_result"
    }
   ],
   "source": [
    "log2(10)"
   ]
  },
  {
   "cell_type": "code",
   "execution_count": 117,
   "id": "72ab6a02",
   "metadata": {},
   "outputs": [
    {
     "data": {
      "text/plain": [
       "8.0"
      ]
     },
     "execution_count": 117,
     "metadata": {},
     "output_type": "execute_result"
    }
   ],
   "source": [
    "math.pow(2,3)"
   ]
  },
  {
   "cell_type": "code",
   "execution_count": 118,
   "id": "3d7527b6",
   "metadata": {},
   "outputs": [
    {
     "data": {
      "text/plain": [
       "9.0"
      ]
     },
     "execution_count": 118,
     "metadata": {},
     "output_type": "execute_result"
    }
   ],
   "source": [
    "math.pow(3,2)"
   ]
  },
  {
   "cell_type": "code",
   "execution_count": 119,
   "id": "ec11aaf8",
   "metadata": {},
   "outputs": [
    {
     "data": {
      "text/plain": [
       "25.0"
      ]
     },
     "execution_count": 119,
     "metadata": {},
     "output_type": "execute_result"
    }
   ],
   "source": [
    "math.sqrt(625)"
   ]
  },
  {
   "cell_type": "markdown",
   "id": "849925ba",
   "metadata": {},
   "source": [
    "### `Random`\n",
    "---"
   ]
  },
  {
   "cell_type": "code",
   "execution_count": 120,
   "id": "3555a4dd",
   "metadata": {},
   "outputs": [],
   "source": [
    "import random"
   ]
  },
  {
   "cell_type": "code",
   "execution_count": 124,
   "id": "6774bfbb",
   "metadata": {},
   "outputs": [
    {
     "data": {
      "text/plain": [
       "'apple'"
      ]
     },
     "execution_count": 124,
     "metadata": {},
     "output_type": "execute_result"
    }
   ],
   "source": [
    "#select a random element from the list\n",
    "random.choice([\"apple\",\"orange\",\"banana\"])"
   ]
  },
  {
   "cell_type": "code",
   "execution_count": 125,
   "id": "9dc1fd56",
   "metadata": {},
   "outputs": [
    {
     "data": {
      "text/plain": [
       "[48, 18, 49, 24, 19, 29, 17, 22, 32, 20]"
      ]
     },
     "execution_count": 125,
     "metadata": {},
     "output_type": "execute_result"
    }
   ],
   "source": [
    "# select 10 different numbers within a range of numbers\n",
    "random.sample(range(10,50),10)"
   ]
  },
  {
   "cell_type": "code",
   "execution_count": 126,
   "id": "fd1a2dfe",
   "metadata": {},
   "outputs": [
    {
     "data": {
      "text/plain": [
       "0.6469612793966109"
      ]
     },
     "execution_count": 126,
     "metadata": {},
     "output_type": "execute_result"
    }
   ],
   "source": [
    "# select a random float number\n",
    "random.random()"
   ]
  },
  {
   "cell_type": "code",
   "execution_count": 131,
   "id": "d912429a",
   "metadata": {},
   "outputs": [
    {
     "data": {
      "text/plain": [
       "0.6555651821467862"
      ]
     },
     "execution_count": 131,
     "metadata": {},
     "output_type": "execute_result"
    }
   ],
   "source": [
    "# select a random float number within a range.\n",
    "random.uniform(0,1)"
   ]
  },
  {
   "cell_type": "code",
   "execution_count": 135,
   "id": "4bd055b0",
   "metadata": {},
   "outputs": [
    {
     "data": {
      "text/plain": [
       "5"
      ]
     },
     "execution_count": 135,
     "metadata": {},
     "output_type": "execute_result"
    }
   ],
   "source": [
    "# random integer chosen from range(6)\n",
    "random.randrange(3,6)"
   ]
  },
  {
   "cell_type": "code",
   "execution_count": 142,
   "id": "492ac7b4",
   "metadata": {},
   "outputs": [
    {
     "data": {
      "text/plain": [
       "4"
      ]
     },
     "execution_count": 142,
     "metadata": {},
     "output_type": "execute_result"
    }
   ],
   "source": [
    "random.randint(1,10)"
   ]
  },
  {
   "cell_type": "markdown",
   "id": "1fc259e8",
   "metadata": {},
   "source": [
    "### `DATE TIME`\n",
    "\n",
    "---\n",
    "\n",
    "| **Directive** | **Meaning**                                               |\n",
    "|---            | ---                                                       |\n",
    "| **%a**        | weekday as locale's abbreviated name.                     |\n",
    "| **%A**        | weekday as locale's full name.                            |\n",
    "| **%d**        | Day of the months as a zero-padded decimal Number.        |\n",
    "| **%b**        | Month as locale's abbreviated name.                       |\n",
    "| **%B**        | Month as locale's full name.                              |\n",
    "| **%m**        | Month as a zer-padded decimal number.                     |\n",
    "| **%y**        | Year without century as a zero-padded decimal number.     |\n",
    "| **%Y**        | Year with century as a decimal number.                    |\n",
    "| **%H**        | Hour (24-hour clock) as a zero-padded decimal number.     |\n",
    "\n",
    "\n",
    "---\n",
    "\n",
    "***You can read more about the other directives and datetime library here: https://docs.python.org/3/library/datetime.html***"
   ]
  },
  {
   "cell_type": "code",
   "execution_count": 6,
   "id": "7499a141",
   "metadata": {},
   "outputs": [],
   "source": [
    "# dates are easily constructed and formatted\n",
    "from datetime import date"
   ]
  },
  {
   "cell_type": "code",
   "execution_count": 8,
   "id": "38b21003",
   "metadata": {},
   "outputs": [
    {
     "name": "stdout",
     "output_type": "stream",
     "text": [
      "Date: 2021-11-11\n"
     ]
    }
   ],
   "source": [
    "# get the today date\n",
    "\n",
    "TODAY = date.today()\n",
    "print(\"Date:\", TODAY)"
   ]
  },
  {
   "cell_type": "code",
   "execution_count": 17,
   "id": "a73877ae",
   "metadata": {},
   "outputs": [
    {
     "name": "stdout",
     "output_type": "stream",
     "text": [
      "Formatted date: Thu-11-2021.\n"
     ]
    }
   ],
   "source": [
    "# fomat date\n",
    "print(\"Formatted date:\", TODAY.strftime(\"%a-%m-%Y.\"))"
   ]
  },
  {
   "cell_type": "code",
   "execution_count": 18,
   "id": "d83921dd",
   "metadata": {},
   "outputs": [
    {
     "name": "stdout",
     "output_type": "stream",
     "text": [
      "Formatted date: Thursday-11-2021.\n"
     ]
    }
   ],
   "source": [
    "print(\"Formatted date:\", TODAY.strftime(\"%A-%m-%Y.\"))"
   ]
  },
  {
   "cell_type": "code",
   "execution_count": 19,
   "id": "e29fcf8b",
   "metadata": {},
   "outputs": [
    {
     "name": "stdout",
     "output_type": "stream",
     "text": [
      "Formatted date: 11-11-2021.\n"
     ]
    }
   ],
   "source": [
    "print(\"Formatted date:\", TODAY.strftime(\"%d-%m-%Y.\"))"
   ]
  },
  {
   "cell_type": "code",
   "execution_count": 20,
   "id": "7a9703e8",
   "metadata": {},
   "outputs": [
    {
     "name": "stdout",
     "output_type": "stream",
     "text": [
      "Formatted date: 11-Nov-21.\n"
     ]
    }
   ],
   "source": [
    "print(\"Formatted date:\", TODAY.strftime(\"%d-%b-%y.\"))"
   ]
  },
  {
   "cell_type": "code",
   "execution_count": 21,
   "id": "dc708b93",
   "metadata": {},
   "outputs": [
    {
     "name": "stdout",
     "output_type": "stream",
     "text": [
      "Formatted date: 11-November-2021.\n"
     ]
    }
   ],
   "source": [
    "print(\"Formatted date:\", TODAY.strftime(\"%d-%B-%Y.\"))"
   ]
  },
  {
   "cell_type": "code",
   "execution_count": 22,
   "id": "b1f8c9d4",
   "metadata": {},
   "outputs": [
    {
     "name": "stdout",
     "output_type": "stream",
     "text": [
      "Formatted date: Thursday on the 11 th day of November.\n"
     ]
    }
   ],
   "source": [
    "print(\"Formatted date:\", TODAY.strftime(\"%A on the %d th day of %B.\"))"
   ]
  },
  {
   "cell_type": "code",
   "execution_count": 28,
   "id": "77c98b52",
   "metadata": {},
   "outputs": [
    {
     "name": "stdout",
     "output_type": "stream",
     "text": [
      "Age is: 57.320547945205476\n"
     ]
    }
   ],
   "source": [
    "# date support calendar arithmetic\n",
    "birthday = date(1964, 7, 31)\n",
    "age = TODAY - birthday\n",
    "\n",
    "print(\"Age is:\", age.days/365)"
   ]
  },
  {
   "cell_type": "markdown",
   "id": "f9315bd0",
   "metadata": {},
   "source": [
    "\n",
    "\n",
    "---"
   ]
  },
  {
   "cell_type": "markdown",
   "id": "f9dddea2",
   "metadata": {},
   "source": [
    "---\n",
    "### `OS`- OPERATING SYSTEM\n",
    "\n",
    "- The OS module provides dozens of functions for interacting with the operating system."
   ]
  },
  {
   "cell_type": "code",
   "execution_count": 32,
   "id": "700be997",
   "metadata": {},
   "outputs": [
    {
     "name": "stdout",
     "output_type": "stream",
     "text": [
      "Get current working directory: C:\\Users\\sivak\n"
     ]
    }
   ],
   "source": [
    "import os\n",
    "\n",
    "# Return the current working directory\n",
    "print(\"Get current working directory:\", os.getcwd())"
   ]
  },
  {
   "cell_type": "code",
   "execution_count": 33,
   "id": "5b189562",
   "metadata": {},
   "outputs": [
    {
     "name": "stdout",
     "output_type": "stream",
     "text": [
      "Change current working directory to sample_data\n"
     ]
    }
   ],
   "source": [
    "# Change current working directory\n",
    "print(\"Change current working directory to sample_data\")\n",
    "os.system('mkdir sample_data')\n",
    "os.chdir('sample_data/')"
   ]
  },
  {
   "cell_type": "code",
   "execution_count": 34,
   "id": "bb985850",
   "metadata": {},
   "outputs": [
    {
     "name": "stdout",
     "output_type": "stream",
     "text": [
      "Make new directory\n"
     ]
    },
    {
     "data": {
      "text/plain": [
       "0"
      ]
     },
     "execution_count": 34,
     "metadata": {},
     "output_type": "execute_result"
    }
   ],
   "source": [
    "# Run the command mkdir in the system shell\n",
    "print(\"Make new directory\")\n",
    "os.system('mkdir today')"
   ]
  },
  {
   "cell_type": "code",
   "execution_count": 35,
   "id": "994f77b2",
   "metadata": {},
   "outputs": [
    {
     "name": "stdout",
     "output_type": "stream",
     "text": [
      "Listing existing directories:\n"
     ]
    },
    {
     "data": {
      "text/plain": [
       "1"
      ]
     },
     "execution_count": 35,
     "metadata": {},
     "output_type": "execute_result"
    }
   ],
   "source": [
    "# check if the directory got created\n",
    "print(\"Listing existing directories:\")\n",
    "os.system('ls')"
   ]
  },
  {
   "cell_type": "code",
   "execution_count": null,
   "id": "8b01bdca",
   "metadata": {},
   "outputs": [],
   "source": []
  }
 ],
 "metadata": {
  "kernelspec": {
   "display_name": "Python 3",
   "language": "python",
   "name": "python3"
  },
  "language_info": {
   "codemirror_mode": {
    "name": "ipython",
    "version": 3
   },
   "file_extension": ".py",
   "mimetype": "text/x-python",
   "name": "python",
   "nbconvert_exporter": "python",
   "pygments_lexer": "ipython3",
   "version": "3.8.8"
  }
 },
 "nbformat": 4,
 "nbformat_minor": 5
}
